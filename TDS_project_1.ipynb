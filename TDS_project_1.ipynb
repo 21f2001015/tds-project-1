{
  "nbformat": 4,
  "nbformat_minor": 0,
  "metadata": {
    "colab": {
      "provenance": []
    },
    "kernelspec": {
      "name": "python3",
      "display_name": "Python 3"
    },
    "language_info": {
      "name": "python"
    }
  },
  "cells": [
    {
      "cell_type": "code",
      "execution_count": 1,
      "metadata": {
        "id": "LdMRQomJSfx2"
      },
      "outputs": [],
      "source": [
        "import numpy as np\n",
        "import pandas as pd"
      ]
    },
    {
      "cell_type": "markdown",
      "source": [
        "**Load Data**"
      ],
      "metadata": {
        "id": "3lVHCfPWT2O-"
      }
    },
    {
      "cell_type": "code",
      "source": [
        "# Data of GitHub users in the city of 'Barcelona' with over '100' followers, and their repositories.\n",
        "\n",
        "users = pd.read_csv('https://raw.githubusercontent.com/21f2001015/tds-project-1/main/users.csv')\n",
        "repos = pd.read_csv('https://raw.githubusercontent.com/21f2001015/tds-project-1/main/repositories.csv')"
      ],
      "metadata": {
        "id": "PwXVQkD9T8oa"
      },
      "execution_count": 2,
      "outputs": []
    },
    {
      "cell_type": "markdown",
      "source": [
        "#### Preprocessing"
      ],
      "metadata": {
        "id": "MUnk0dSw-MMA"
      }
    },
    {
      "cell_type": "code",
      "source": [
        "users['hireable'] = users['hireable'].replace({True: 'true', False: 'false'})\n",
        "users['created_at'] = pd.to_datetime(users['created_at'])\n",
        "users.head()"
      ],
      "metadata": {
        "colab": {
          "base_uri": "https://localhost:8080/",
          "height": 293
        },
        "collapsed": true,
        "id": "PSG26VmK-OBY",
        "outputId": "a37aebfc-a26c-4868-a1ba-673410f95203"
      },
      "execution_count": 3,
      "outputs": [
        {
          "output_type": "execute_result",
          "data": {
            "text/plain": [
              "     login                name          company            location  \\\n",
              "0  midudev  Miguel Ángel Durán              NaN           Barcelona   \n",
              "1       ai       Andrey Sitnik     EVILMARTIANS    Barcelona, Spain   \n",
              "2  raysan5                 Ray       RAYLIBTECH           Barcelona   \n",
              "3  vfarcic       Viktor Farcic          UPBOUND    Barcelona, Spain   \n",
              "4    spite       Jaume Sanchez  GOOGLE-DEEPMIND  London · Barcelona   \n",
              "\n",
              "                      email hireable  \\\n",
              "0          miduga@gmail.com    false   \n",
              "1          andrey@sitnik.ru    false   \n",
              "2         raysan5@gmail.com     true   \n",
              "3         viktor@farcic.com    false   \n",
              "4  hello@clicktorelease.com    false   \n",
              "\n",
              "                                                 bio  public_repos  followers  \\\n",
              "0  Te enseño Programación y Desarrollo Web. Cread...           194      28282   \n",
              "1  The creator of Autoprefixer, @postcss, @browse...            85       9155   \n",
              "2  I make tools and technology for videogames dev...            26       3571   \n",
              "3                        Developer Advocate @Upbound           451       2974   \n",
              "4              Web Dev, pixel burner - WebGL · WebXR           135       2547   \n",
              "\n",
              "   following                created_at  \n",
              "0          2 2012-03-21 18:31:36+00:00  \n",
              "1        139 2008-08-02 16:34:20+00:00  \n",
              "2        272 2013-10-24 15:41:54+00:00  \n",
              "3          0 2013-10-18 07:28:17+00:00  \n",
              "4          0 2011-04-15 16:00:06+00:00  "
            ],
            "text/html": [
              "\n",
              "  <div id=\"df-c8daa82c-8d3a-4a1b-bf3a-2dce22c00c78\" class=\"colab-df-container\">\n",
              "    <div>\n",
              "<style scoped>\n",
              "    .dataframe tbody tr th:only-of-type {\n",
              "        vertical-align: middle;\n",
              "    }\n",
              "\n",
              "    .dataframe tbody tr th {\n",
              "        vertical-align: top;\n",
              "    }\n",
              "\n",
              "    .dataframe thead th {\n",
              "        text-align: right;\n",
              "    }\n",
              "</style>\n",
              "<table border=\"1\" class=\"dataframe\">\n",
              "  <thead>\n",
              "    <tr style=\"text-align: right;\">\n",
              "      <th></th>\n",
              "      <th>login</th>\n",
              "      <th>name</th>\n",
              "      <th>company</th>\n",
              "      <th>location</th>\n",
              "      <th>email</th>\n",
              "      <th>hireable</th>\n",
              "      <th>bio</th>\n",
              "      <th>public_repos</th>\n",
              "      <th>followers</th>\n",
              "      <th>following</th>\n",
              "      <th>created_at</th>\n",
              "    </tr>\n",
              "  </thead>\n",
              "  <tbody>\n",
              "    <tr>\n",
              "      <th>0</th>\n",
              "      <td>midudev</td>\n",
              "      <td>Miguel Ángel Durán</td>\n",
              "      <td>NaN</td>\n",
              "      <td>Barcelona</td>\n",
              "      <td>miduga@gmail.com</td>\n",
              "      <td>false</td>\n",
              "      <td>Te enseño Programación y Desarrollo Web. Cread...</td>\n",
              "      <td>194</td>\n",
              "      <td>28282</td>\n",
              "      <td>2</td>\n",
              "      <td>2012-03-21 18:31:36+00:00</td>\n",
              "    </tr>\n",
              "    <tr>\n",
              "      <th>1</th>\n",
              "      <td>ai</td>\n",
              "      <td>Andrey Sitnik</td>\n",
              "      <td>EVILMARTIANS</td>\n",
              "      <td>Barcelona, Spain</td>\n",
              "      <td>andrey@sitnik.ru</td>\n",
              "      <td>false</td>\n",
              "      <td>The creator of Autoprefixer, @postcss, @browse...</td>\n",
              "      <td>85</td>\n",
              "      <td>9155</td>\n",
              "      <td>139</td>\n",
              "      <td>2008-08-02 16:34:20+00:00</td>\n",
              "    </tr>\n",
              "    <tr>\n",
              "      <th>2</th>\n",
              "      <td>raysan5</td>\n",
              "      <td>Ray</td>\n",
              "      <td>RAYLIBTECH</td>\n",
              "      <td>Barcelona</td>\n",
              "      <td>raysan5@gmail.com</td>\n",
              "      <td>true</td>\n",
              "      <td>I make tools and technology for videogames dev...</td>\n",
              "      <td>26</td>\n",
              "      <td>3571</td>\n",
              "      <td>272</td>\n",
              "      <td>2013-10-24 15:41:54+00:00</td>\n",
              "    </tr>\n",
              "    <tr>\n",
              "      <th>3</th>\n",
              "      <td>vfarcic</td>\n",
              "      <td>Viktor Farcic</td>\n",
              "      <td>UPBOUND</td>\n",
              "      <td>Barcelona, Spain</td>\n",
              "      <td>viktor@farcic.com</td>\n",
              "      <td>false</td>\n",
              "      <td>Developer Advocate @Upbound</td>\n",
              "      <td>451</td>\n",
              "      <td>2974</td>\n",
              "      <td>0</td>\n",
              "      <td>2013-10-18 07:28:17+00:00</td>\n",
              "    </tr>\n",
              "    <tr>\n",
              "      <th>4</th>\n",
              "      <td>spite</td>\n",
              "      <td>Jaume Sanchez</td>\n",
              "      <td>GOOGLE-DEEPMIND</td>\n",
              "      <td>London · Barcelona</td>\n",
              "      <td>hello@clicktorelease.com</td>\n",
              "      <td>false</td>\n",
              "      <td>Web Dev, pixel burner - WebGL · WebXR</td>\n",
              "      <td>135</td>\n",
              "      <td>2547</td>\n",
              "      <td>0</td>\n",
              "      <td>2011-04-15 16:00:06+00:00</td>\n",
              "    </tr>\n",
              "  </tbody>\n",
              "</table>\n",
              "</div>\n",
              "    <div class=\"colab-df-buttons\">\n",
              "\n",
              "  <div class=\"colab-df-container\">\n",
              "    <button class=\"colab-df-convert\" onclick=\"convertToInteractive('df-c8daa82c-8d3a-4a1b-bf3a-2dce22c00c78')\"\n",
              "            title=\"Convert this dataframe to an interactive table.\"\n",
              "            style=\"display:none;\">\n",
              "\n",
              "  <svg xmlns=\"http://www.w3.org/2000/svg\" height=\"24px\" viewBox=\"0 -960 960 960\">\n",
              "    <path d=\"M120-120v-720h720v720H120Zm60-500h600v-160H180v160Zm220 220h160v-160H400v160Zm0 220h160v-160H400v160ZM180-400h160v-160H180v160Zm440 0h160v-160H620v160ZM180-180h160v-160H180v160Zm440 0h160v-160H620v160Z\"/>\n",
              "  </svg>\n",
              "    </button>\n",
              "\n",
              "  <style>\n",
              "    .colab-df-container {\n",
              "      display:flex;\n",
              "      gap: 12px;\n",
              "    }\n",
              "\n",
              "    .colab-df-convert {\n",
              "      background-color: #E8F0FE;\n",
              "      border: none;\n",
              "      border-radius: 50%;\n",
              "      cursor: pointer;\n",
              "      display: none;\n",
              "      fill: #1967D2;\n",
              "      height: 32px;\n",
              "      padding: 0 0 0 0;\n",
              "      width: 32px;\n",
              "    }\n",
              "\n",
              "    .colab-df-convert:hover {\n",
              "      background-color: #E2EBFA;\n",
              "      box-shadow: 0px 1px 2px rgba(60, 64, 67, 0.3), 0px 1px 3px 1px rgba(60, 64, 67, 0.15);\n",
              "      fill: #174EA6;\n",
              "    }\n",
              "\n",
              "    .colab-df-buttons div {\n",
              "      margin-bottom: 4px;\n",
              "    }\n",
              "\n",
              "    [theme=dark] .colab-df-convert {\n",
              "      background-color: #3B4455;\n",
              "      fill: #D2E3FC;\n",
              "    }\n",
              "\n",
              "    [theme=dark] .colab-df-convert:hover {\n",
              "      background-color: #434B5C;\n",
              "      box-shadow: 0px 1px 3px 1px rgba(0, 0, 0, 0.15);\n",
              "      filter: drop-shadow(0px 1px 2px rgba(0, 0, 0, 0.3));\n",
              "      fill: #FFFFFF;\n",
              "    }\n",
              "  </style>\n",
              "\n",
              "    <script>\n",
              "      const buttonEl =\n",
              "        document.querySelector('#df-c8daa82c-8d3a-4a1b-bf3a-2dce22c00c78 button.colab-df-convert');\n",
              "      buttonEl.style.display =\n",
              "        google.colab.kernel.accessAllowed ? 'block' : 'none';\n",
              "\n",
              "      async function convertToInteractive(key) {\n",
              "        const element = document.querySelector('#df-c8daa82c-8d3a-4a1b-bf3a-2dce22c00c78');\n",
              "        const dataTable =\n",
              "          await google.colab.kernel.invokeFunction('convertToInteractive',\n",
              "                                                    [key], {});\n",
              "        if (!dataTable) return;\n",
              "\n",
              "        const docLinkHtml = 'Like what you see? Visit the ' +\n",
              "          '<a target=\"_blank\" href=https://colab.research.google.com/notebooks/data_table.ipynb>data table notebook</a>'\n",
              "          + ' to learn more about interactive tables.';\n",
              "        element.innerHTML = '';\n",
              "        dataTable['output_type'] = 'display_data';\n",
              "        await google.colab.output.renderOutput(dataTable, element);\n",
              "        const docLink = document.createElement('div');\n",
              "        docLink.innerHTML = docLinkHtml;\n",
              "        element.appendChild(docLink);\n",
              "      }\n",
              "    </script>\n",
              "  </div>\n",
              "\n",
              "\n",
              "<div id=\"df-7fe59ea5-44be-4e14-bcb4-9b624377cf1c\">\n",
              "  <button class=\"colab-df-quickchart\" onclick=\"quickchart('df-7fe59ea5-44be-4e14-bcb4-9b624377cf1c')\"\n",
              "            title=\"Suggest charts\"\n",
              "            style=\"display:none;\">\n",
              "\n",
              "<svg xmlns=\"http://www.w3.org/2000/svg\" height=\"24px\"viewBox=\"0 0 24 24\"\n",
              "     width=\"24px\">\n",
              "    <g>\n",
              "        <path d=\"M19 3H5c-1.1 0-2 .9-2 2v14c0 1.1.9 2 2 2h14c1.1 0 2-.9 2-2V5c0-1.1-.9-2-2-2zM9 17H7v-7h2v7zm4 0h-2V7h2v10zm4 0h-2v-4h2v4z\"/>\n",
              "    </g>\n",
              "</svg>\n",
              "  </button>\n",
              "\n",
              "<style>\n",
              "  .colab-df-quickchart {\n",
              "      --bg-color: #E8F0FE;\n",
              "      --fill-color: #1967D2;\n",
              "      --hover-bg-color: #E2EBFA;\n",
              "      --hover-fill-color: #174EA6;\n",
              "      --disabled-fill-color: #AAA;\n",
              "      --disabled-bg-color: #DDD;\n",
              "  }\n",
              "\n",
              "  [theme=dark] .colab-df-quickchart {\n",
              "      --bg-color: #3B4455;\n",
              "      --fill-color: #D2E3FC;\n",
              "      --hover-bg-color: #434B5C;\n",
              "      --hover-fill-color: #FFFFFF;\n",
              "      --disabled-bg-color: #3B4455;\n",
              "      --disabled-fill-color: #666;\n",
              "  }\n",
              "\n",
              "  .colab-df-quickchart {\n",
              "    background-color: var(--bg-color);\n",
              "    border: none;\n",
              "    border-radius: 50%;\n",
              "    cursor: pointer;\n",
              "    display: none;\n",
              "    fill: var(--fill-color);\n",
              "    height: 32px;\n",
              "    padding: 0;\n",
              "    width: 32px;\n",
              "  }\n",
              "\n",
              "  .colab-df-quickchart:hover {\n",
              "    background-color: var(--hover-bg-color);\n",
              "    box-shadow: 0 1px 2px rgba(60, 64, 67, 0.3), 0 1px 3px 1px rgba(60, 64, 67, 0.15);\n",
              "    fill: var(--button-hover-fill-color);\n",
              "  }\n",
              "\n",
              "  .colab-df-quickchart-complete:disabled,\n",
              "  .colab-df-quickchart-complete:disabled:hover {\n",
              "    background-color: var(--disabled-bg-color);\n",
              "    fill: var(--disabled-fill-color);\n",
              "    box-shadow: none;\n",
              "  }\n",
              "\n",
              "  .colab-df-spinner {\n",
              "    border: 2px solid var(--fill-color);\n",
              "    border-color: transparent;\n",
              "    border-bottom-color: var(--fill-color);\n",
              "    animation:\n",
              "      spin 1s steps(1) infinite;\n",
              "  }\n",
              "\n",
              "  @keyframes spin {\n",
              "    0% {\n",
              "      border-color: transparent;\n",
              "      border-bottom-color: var(--fill-color);\n",
              "      border-left-color: var(--fill-color);\n",
              "    }\n",
              "    20% {\n",
              "      border-color: transparent;\n",
              "      border-left-color: var(--fill-color);\n",
              "      border-top-color: var(--fill-color);\n",
              "    }\n",
              "    30% {\n",
              "      border-color: transparent;\n",
              "      border-left-color: var(--fill-color);\n",
              "      border-top-color: var(--fill-color);\n",
              "      border-right-color: var(--fill-color);\n",
              "    }\n",
              "    40% {\n",
              "      border-color: transparent;\n",
              "      border-right-color: var(--fill-color);\n",
              "      border-top-color: var(--fill-color);\n",
              "    }\n",
              "    60% {\n",
              "      border-color: transparent;\n",
              "      border-right-color: var(--fill-color);\n",
              "    }\n",
              "    80% {\n",
              "      border-color: transparent;\n",
              "      border-right-color: var(--fill-color);\n",
              "      border-bottom-color: var(--fill-color);\n",
              "    }\n",
              "    90% {\n",
              "      border-color: transparent;\n",
              "      border-bottom-color: var(--fill-color);\n",
              "    }\n",
              "  }\n",
              "</style>\n",
              "\n",
              "  <script>\n",
              "    async function quickchart(key) {\n",
              "      const quickchartButtonEl =\n",
              "        document.querySelector('#' + key + ' button');\n",
              "      quickchartButtonEl.disabled = true;  // To prevent multiple clicks.\n",
              "      quickchartButtonEl.classList.add('colab-df-spinner');\n",
              "      try {\n",
              "        const charts = await google.colab.kernel.invokeFunction(\n",
              "            'suggestCharts', [key], {});\n",
              "      } catch (error) {\n",
              "        console.error('Error during call to suggestCharts:', error);\n",
              "      }\n",
              "      quickchartButtonEl.classList.remove('colab-df-spinner');\n",
              "      quickchartButtonEl.classList.add('colab-df-quickchart-complete');\n",
              "    }\n",
              "    (() => {\n",
              "      let quickchartButtonEl =\n",
              "        document.querySelector('#df-7fe59ea5-44be-4e14-bcb4-9b624377cf1c button');\n",
              "      quickchartButtonEl.style.display =\n",
              "        google.colab.kernel.accessAllowed ? 'block' : 'none';\n",
              "    })();\n",
              "  </script>\n",
              "</div>\n",
              "\n",
              "    </div>\n",
              "  </div>\n"
            ],
            "application/vnd.google.colaboratory.intrinsic+json": {
              "type": "dataframe",
              "variable_name": "users",
              "summary": "{\n  \"name\": \"users\",\n  \"rows\": 337,\n  \"fields\": [\n    {\n      \"column\": \"login\",\n      \"properties\": {\n        \"dtype\": \"string\",\n        \"num_unique_values\": 337,\n        \"samples\": [\n          \"robertohuertasm\",\n          \"franiglesias\",\n          \"jorditorresBCN\"\n        ],\n        \"semantic_type\": \"\",\n        \"description\": \"\"\n      }\n    },\n    {\n      \"column\": \"name\",\n      \"properties\": {\n        \"dtype\": \"string\",\n        \"num_unique_values\": 330,\n        \"samples\": [\n          \"Carlos Cuesta\",\n          \"Lorena Criado\",\n          \"zynthian\"\n        ],\n        \"semantic_type\": \"\",\n        \"description\": \"\"\n      }\n    },\n    {\n      \"column\": \"company\",\n      \"properties\": {\n        \"dtype\": \"string\",\n        \"num_unique_values\": 184,\n        \"samples\": [\n          \"TONKEEPER CEO\",\n          \"KORNIA.ORG\",\n          \"SHADOWMOSES-XYZ\"\n        ],\n        \"semantic_type\": \"\",\n        \"description\": \"\"\n      }\n    },\n    {\n      \"column\": \"location\",\n      \"properties\": {\n        \"dtype\": \"category\",\n        \"num_unique_values\": 40,\n        \"samples\": [\n          \"Universitat Autonoma de Barcelona\",\n          \"Barcelona, (Spain)\",\n          \"Barcelona (SPAIN)\"\n        ],\n        \"semantic_type\": \"\",\n        \"description\": \"\"\n      }\n    },\n    {\n      \"column\": \"email\",\n      \"properties\": {\n        \"dtype\": \"category\",\n        \"num_unique_values\": 167,\n        \"samples\": [\n          \"oopere@gmail.com\",\n          \"paulaboyanoivars@gmail.com\",\n          \"jfontanalsmartinez@gmail.com\"\n        ],\n        \"semantic_type\": \"\",\n        \"description\": \"\"\n      }\n    },\n    {\n      \"column\": \"hireable\",\n      \"properties\": {\n        \"dtype\": \"category\",\n        \"num_unique_values\": 2,\n        \"samples\": [\n          \"true\",\n          \"false\"\n        ],\n        \"semantic_type\": \"\",\n        \"description\": \"\"\n      }\n    },\n    {\n      \"column\": \"bio\",\n      \"properties\": {\n        \"dtype\": \"string\",\n        \"num_unique_values\": 244,\n        \"samples\": [\n          \"Working at @readthedocs and trying to save the world\",\n          \"Hype @raycast \"\n        ],\n        \"semantic_type\": \"\",\n        \"description\": \"\"\n      }\n    },\n    {\n      \"column\": \"public_repos\",\n      \"properties\": {\n        \"dtype\": \"number\",\n        \"std\": 113,\n        \"min\": 2,\n        \"max\": 1438,\n        \"num_unique_values\": 155,\n        \"samples\": [\n          167,\n          41\n        ],\n        \"semantic_type\": \"\",\n        \"description\": \"\"\n      }\n    },\n    {\n      \"column\": \"followers\",\n      \"properties\": {\n        \"dtype\": \"number\",\n        \"std\": 1646,\n        \"min\": 101,\n        \"max\": 28282,\n        \"num_unique_values\": 198,\n        \"samples\": [\n          381,\n          214\n        ],\n        \"semantic_type\": \"\",\n        \"description\": \"\"\n      }\n    },\n    {\n      \"column\": \"following\",\n      \"properties\": {\n        \"dtype\": \"number\",\n        \"std\": 1232,\n        \"min\": 0,\n        \"max\": 16839,\n        \"num_unique_values\": 153,\n        \"samples\": [\n          66,\n          22\n        ],\n        \"semantic_type\": \"\",\n        \"description\": \"\"\n      }\n    },\n    {\n      \"column\": \"created_at\",\n      \"properties\": {\n        \"dtype\": \"date\",\n        \"min\": \"2008-02-23 20:03:19+00:00\",\n        \"max\": \"2023-11-10 16:33:50+00:00\",\n        \"num_unique_values\": 337,\n        \"samples\": [\n          \"2011-03-29 10:20:04+00:00\",\n          \"2015-11-30 09:39:03+00:00\"\n        ],\n        \"semantic_type\": \"\",\n        \"description\": \"\"\n      }\n    }\n  ]\n}"
            }
          },
          "metadata": {},
          "execution_count": 3
        }
      ]
    },
    {
      "cell_type": "code",
      "source": [
        "users.info()"
      ],
      "metadata": {
        "colab": {
          "base_uri": "https://localhost:8080/"
        },
        "collapsed": true,
        "id": "UR9PNRJ88oma",
        "outputId": "e1ed9d5d-eabd-4656-ed42-c272d2f31feb"
      },
      "execution_count": 4,
      "outputs": [
        {
          "output_type": "stream",
          "name": "stdout",
          "text": [
            "<class 'pandas.core.frame.DataFrame'>\n",
            "RangeIndex: 337 entries, 0 to 336\n",
            "Data columns (total 11 columns):\n",
            " #   Column        Non-Null Count  Dtype              \n",
            "---  ------        --------------  -----              \n",
            " 0   login         337 non-null    object             \n",
            " 1   name          330 non-null    object             \n",
            " 2   company       208 non-null    object             \n",
            " 3   location      337 non-null    object             \n",
            " 4   email         167 non-null    object             \n",
            " 5   hireable      337 non-null    object             \n",
            " 6   bio           245 non-null    object             \n",
            " 7   public_repos  337 non-null    int64              \n",
            " 8   followers     337 non-null    int64              \n",
            " 9   following     337 non-null    int64              \n",
            " 10  created_at    337 non-null    datetime64[ns, UTC]\n",
            "dtypes: datetime64[ns, UTC](1), int64(3), object(7)\n",
            "memory usage: 29.1+ KB\n"
          ]
        }
      ]
    },
    {
      "cell_type": "code",
      "source": [
        "repos['has_projects'] = repos['has_projects'].replace({True: 'true', False: 'false'})\n",
        "repos['has_wiki'] = repos['has_wiki'].replace({True: 'true', False: 'false'})\n",
        "repos['created_at'] = pd.to_datetime(repos['created_at'])\n",
        "repos.head()"
      ],
      "metadata": {
        "colab": {
          "base_uri": "https://localhost:8080/",
          "height": 206
        },
        "collapsed": true,
        "id": "I44xVsKF-PYP",
        "outputId": "a48f8bf2-f64e-4840-d046-adae4bf24477"
      },
      "execution_count": 5,
      "outputs": [
        {
          "output_type": "execute_result",
          "data": {
            "text/plain": [
              "     login                      full_name                created_at  \\\n",
              "0  midudev         midudev/accordion-menu 2018-10-08 13:41:57+00:00   \n",
              "1  midudev             midudev/actas-2024 2024-08-01 15:04:40+00:00   \n",
              "2  midudev        midudev/adventjs-issues 2021-12-01 15:27:21+00:00   \n",
              "3  midudev  midudev/algolia-pwa-ecommerce 2022-01-03 20:17:22+00:00   \n",
              "4  midudev             midudev/ant-design 2018-09-13 15:08:22+00:00   \n",
              "\n",
              "   stargazers_count  watchers_count    language has_projects has_wiki  \\\n",
              "0                 2               2  JavaScript         true     true   \n",
              "1                42              42         NaN         true     true   \n",
              "2                33              33         NaN         true     true   \n",
              "3                24              24  TypeScript         true     true   \n",
              "4                 2               2  TypeScript         true     true   \n",
              "\n",
              "  license_name  \n",
              "0          NaN  \n",
              "1          NaN  \n",
              "2          NaN  \n",
              "3          mit  \n",
              "4          mit  "
            ],
            "text/html": [
              "\n",
              "  <div id=\"df-08d72740-7331-4526-8546-81c32adea3e6\" class=\"colab-df-container\">\n",
              "    <div>\n",
              "<style scoped>\n",
              "    .dataframe tbody tr th:only-of-type {\n",
              "        vertical-align: middle;\n",
              "    }\n",
              "\n",
              "    .dataframe tbody tr th {\n",
              "        vertical-align: top;\n",
              "    }\n",
              "\n",
              "    .dataframe thead th {\n",
              "        text-align: right;\n",
              "    }\n",
              "</style>\n",
              "<table border=\"1\" class=\"dataframe\">\n",
              "  <thead>\n",
              "    <tr style=\"text-align: right;\">\n",
              "      <th></th>\n",
              "      <th>login</th>\n",
              "      <th>full_name</th>\n",
              "      <th>created_at</th>\n",
              "      <th>stargazers_count</th>\n",
              "      <th>watchers_count</th>\n",
              "      <th>language</th>\n",
              "      <th>has_projects</th>\n",
              "      <th>has_wiki</th>\n",
              "      <th>license_name</th>\n",
              "    </tr>\n",
              "  </thead>\n",
              "  <tbody>\n",
              "    <tr>\n",
              "      <th>0</th>\n",
              "      <td>midudev</td>\n",
              "      <td>midudev/accordion-menu</td>\n",
              "      <td>2018-10-08 13:41:57+00:00</td>\n",
              "      <td>2</td>\n",
              "      <td>2</td>\n",
              "      <td>JavaScript</td>\n",
              "      <td>true</td>\n",
              "      <td>true</td>\n",
              "      <td>NaN</td>\n",
              "    </tr>\n",
              "    <tr>\n",
              "      <th>1</th>\n",
              "      <td>midudev</td>\n",
              "      <td>midudev/actas-2024</td>\n",
              "      <td>2024-08-01 15:04:40+00:00</td>\n",
              "      <td>42</td>\n",
              "      <td>42</td>\n",
              "      <td>NaN</td>\n",
              "      <td>true</td>\n",
              "      <td>true</td>\n",
              "      <td>NaN</td>\n",
              "    </tr>\n",
              "    <tr>\n",
              "      <th>2</th>\n",
              "      <td>midudev</td>\n",
              "      <td>midudev/adventjs-issues</td>\n",
              "      <td>2021-12-01 15:27:21+00:00</td>\n",
              "      <td>33</td>\n",
              "      <td>33</td>\n",
              "      <td>NaN</td>\n",
              "      <td>true</td>\n",
              "      <td>true</td>\n",
              "      <td>NaN</td>\n",
              "    </tr>\n",
              "    <tr>\n",
              "      <th>3</th>\n",
              "      <td>midudev</td>\n",
              "      <td>midudev/algolia-pwa-ecommerce</td>\n",
              "      <td>2022-01-03 20:17:22+00:00</td>\n",
              "      <td>24</td>\n",
              "      <td>24</td>\n",
              "      <td>TypeScript</td>\n",
              "      <td>true</td>\n",
              "      <td>true</td>\n",
              "      <td>mit</td>\n",
              "    </tr>\n",
              "    <tr>\n",
              "      <th>4</th>\n",
              "      <td>midudev</td>\n",
              "      <td>midudev/ant-design</td>\n",
              "      <td>2018-09-13 15:08:22+00:00</td>\n",
              "      <td>2</td>\n",
              "      <td>2</td>\n",
              "      <td>TypeScript</td>\n",
              "      <td>true</td>\n",
              "      <td>true</td>\n",
              "      <td>mit</td>\n",
              "    </tr>\n",
              "  </tbody>\n",
              "</table>\n",
              "</div>\n",
              "    <div class=\"colab-df-buttons\">\n",
              "\n",
              "  <div class=\"colab-df-container\">\n",
              "    <button class=\"colab-df-convert\" onclick=\"convertToInteractive('df-08d72740-7331-4526-8546-81c32adea3e6')\"\n",
              "            title=\"Convert this dataframe to an interactive table.\"\n",
              "            style=\"display:none;\">\n",
              "\n",
              "  <svg xmlns=\"http://www.w3.org/2000/svg\" height=\"24px\" viewBox=\"0 -960 960 960\">\n",
              "    <path d=\"M120-120v-720h720v720H120Zm60-500h600v-160H180v160Zm220 220h160v-160H400v160Zm0 220h160v-160H400v160ZM180-400h160v-160H180v160Zm440 0h160v-160H620v160ZM180-180h160v-160H180v160Zm440 0h160v-160H620v160Z\"/>\n",
              "  </svg>\n",
              "    </button>\n",
              "\n",
              "  <style>\n",
              "    .colab-df-container {\n",
              "      display:flex;\n",
              "      gap: 12px;\n",
              "    }\n",
              "\n",
              "    .colab-df-convert {\n",
              "      background-color: #E8F0FE;\n",
              "      border: none;\n",
              "      border-radius: 50%;\n",
              "      cursor: pointer;\n",
              "      display: none;\n",
              "      fill: #1967D2;\n",
              "      height: 32px;\n",
              "      padding: 0 0 0 0;\n",
              "      width: 32px;\n",
              "    }\n",
              "\n",
              "    .colab-df-convert:hover {\n",
              "      background-color: #E2EBFA;\n",
              "      box-shadow: 0px 1px 2px rgba(60, 64, 67, 0.3), 0px 1px 3px 1px rgba(60, 64, 67, 0.15);\n",
              "      fill: #174EA6;\n",
              "    }\n",
              "\n",
              "    .colab-df-buttons div {\n",
              "      margin-bottom: 4px;\n",
              "    }\n",
              "\n",
              "    [theme=dark] .colab-df-convert {\n",
              "      background-color: #3B4455;\n",
              "      fill: #D2E3FC;\n",
              "    }\n",
              "\n",
              "    [theme=dark] .colab-df-convert:hover {\n",
              "      background-color: #434B5C;\n",
              "      box-shadow: 0px 1px 3px 1px rgba(0, 0, 0, 0.15);\n",
              "      filter: drop-shadow(0px 1px 2px rgba(0, 0, 0, 0.3));\n",
              "      fill: #FFFFFF;\n",
              "    }\n",
              "  </style>\n",
              "\n",
              "    <script>\n",
              "      const buttonEl =\n",
              "        document.querySelector('#df-08d72740-7331-4526-8546-81c32adea3e6 button.colab-df-convert');\n",
              "      buttonEl.style.display =\n",
              "        google.colab.kernel.accessAllowed ? 'block' : 'none';\n",
              "\n",
              "      async function convertToInteractive(key) {\n",
              "        const element = document.querySelector('#df-08d72740-7331-4526-8546-81c32adea3e6');\n",
              "        const dataTable =\n",
              "          await google.colab.kernel.invokeFunction('convertToInteractive',\n",
              "                                                    [key], {});\n",
              "        if (!dataTable) return;\n",
              "\n",
              "        const docLinkHtml = 'Like what you see? Visit the ' +\n",
              "          '<a target=\"_blank\" href=https://colab.research.google.com/notebooks/data_table.ipynb>data table notebook</a>'\n",
              "          + ' to learn more about interactive tables.';\n",
              "        element.innerHTML = '';\n",
              "        dataTable['output_type'] = 'display_data';\n",
              "        await google.colab.output.renderOutput(dataTable, element);\n",
              "        const docLink = document.createElement('div');\n",
              "        docLink.innerHTML = docLinkHtml;\n",
              "        element.appendChild(docLink);\n",
              "      }\n",
              "    </script>\n",
              "  </div>\n",
              "\n",
              "\n",
              "<div id=\"df-d0baa379-93a3-4cf1-9220-4b744f993063\">\n",
              "  <button class=\"colab-df-quickchart\" onclick=\"quickchart('df-d0baa379-93a3-4cf1-9220-4b744f993063')\"\n",
              "            title=\"Suggest charts\"\n",
              "            style=\"display:none;\">\n",
              "\n",
              "<svg xmlns=\"http://www.w3.org/2000/svg\" height=\"24px\"viewBox=\"0 0 24 24\"\n",
              "     width=\"24px\">\n",
              "    <g>\n",
              "        <path d=\"M19 3H5c-1.1 0-2 .9-2 2v14c0 1.1.9 2 2 2h14c1.1 0 2-.9 2-2V5c0-1.1-.9-2-2-2zM9 17H7v-7h2v7zm4 0h-2V7h2v10zm4 0h-2v-4h2v4z\"/>\n",
              "    </g>\n",
              "</svg>\n",
              "  </button>\n",
              "\n",
              "<style>\n",
              "  .colab-df-quickchart {\n",
              "      --bg-color: #E8F0FE;\n",
              "      --fill-color: #1967D2;\n",
              "      --hover-bg-color: #E2EBFA;\n",
              "      --hover-fill-color: #174EA6;\n",
              "      --disabled-fill-color: #AAA;\n",
              "      --disabled-bg-color: #DDD;\n",
              "  }\n",
              "\n",
              "  [theme=dark] .colab-df-quickchart {\n",
              "      --bg-color: #3B4455;\n",
              "      --fill-color: #D2E3FC;\n",
              "      --hover-bg-color: #434B5C;\n",
              "      --hover-fill-color: #FFFFFF;\n",
              "      --disabled-bg-color: #3B4455;\n",
              "      --disabled-fill-color: #666;\n",
              "  }\n",
              "\n",
              "  .colab-df-quickchart {\n",
              "    background-color: var(--bg-color);\n",
              "    border: none;\n",
              "    border-radius: 50%;\n",
              "    cursor: pointer;\n",
              "    display: none;\n",
              "    fill: var(--fill-color);\n",
              "    height: 32px;\n",
              "    padding: 0;\n",
              "    width: 32px;\n",
              "  }\n",
              "\n",
              "  .colab-df-quickchart:hover {\n",
              "    background-color: var(--hover-bg-color);\n",
              "    box-shadow: 0 1px 2px rgba(60, 64, 67, 0.3), 0 1px 3px 1px rgba(60, 64, 67, 0.15);\n",
              "    fill: var(--button-hover-fill-color);\n",
              "  }\n",
              "\n",
              "  .colab-df-quickchart-complete:disabled,\n",
              "  .colab-df-quickchart-complete:disabled:hover {\n",
              "    background-color: var(--disabled-bg-color);\n",
              "    fill: var(--disabled-fill-color);\n",
              "    box-shadow: none;\n",
              "  }\n",
              "\n",
              "  .colab-df-spinner {\n",
              "    border: 2px solid var(--fill-color);\n",
              "    border-color: transparent;\n",
              "    border-bottom-color: var(--fill-color);\n",
              "    animation:\n",
              "      spin 1s steps(1) infinite;\n",
              "  }\n",
              "\n",
              "  @keyframes spin {\n",
              "    0% {\n",
              "      border-color: transparent;\n",
              "      border-bottom-color: var(--fill-color);\n",
              "      border-left-color: var(--fill-color);\n",
              "    }\n",
              "    20% {\n",
              "      border-color: transparent;\n",
              "      border-left-color: var(--fill-color);\n",
              "      border-top-color: var(--fill-color);\n",
              "    }\n",
              "    30% {\n",
              "      border-color: transparent;\n",
              "      border-left-color: var(--fill-color);\n",
              "      border-top-color: var(--fill-color);\n",
              "      border-right-color: var(--fill-color);\n",
              "    }\n",
              "    40% {\n",
              "      border-color: transparent;\n",
              "      border-right-color: var(--fill-color);\n",
              "      border-top-color: var(--fill-color);\n",
              "    }\n",
              "    60% {\n",
              "      border-color: transparent;\n",
              "      border-right-color: var(--fill-color);\n",
              "    }\n",
              "    80% {\n",
              "      border-color: transparent;\n",
              "      border-right-color: var(--fill-color);\n",
              "      border-bottom-color: var(--fill-color);\n",
              "    }\n",
              "    90% {\n",
              "      border-color: transparent;\n",
              "      border-bottom-color: var(--fill-color);\n",
              "    }\n",
              "  }\n",
              "</style>\n",
              "\n",
              "  <script>\n",
              "    async function quickchart(key) {\n",
              "      const quickchartButtonEl =\n",
              "        document.querySelector('#' + key + ' button');\n",
              "      quickchartButtonEl.disabled = true;  // To prevent multiple clicks.\n",
              "      quickchartButtonEl.classList.add('colab-df-spinner');\n",
              "      try {\n",
              "        const charts = await google.colab.kernel.invokeFunction(\n",
              "            'suggestCharts', [key], {});\n",
              "      } catch (error) {\n",
              "        console.error('Error during call to suggestCharts:', error);\n",
              "      }\n",
              "      quickchartButtonEl.classList.remove('colab-df-spinner');\n",
              "      quickchartButtonEl.classList.add('colab-df-quickchart-complete');\n",
              "    }\n",
              "    (() => {\n",
              "      let quickchartButtonEl =\n",
              "        document.querySelector('#df-d0baa379-93a3-4cf1-9220-4b744f993063 button');\n",
              "      quickchartButtonEl.style.display =\n",
              "        google.colab.kernel.accessAllowed ? 'block' : 'none';\n",
              "    })();\n",
              "  </script>\n",
              "</div>\n",
              "\n",
              "    </div>\n",
              "  </div>\n"
            ],
            "application/vnd.google.colaboratory.intrinsic+json": {
              "type": "dataframe",
              "variable_name": "repos",
              "summary": "{\n  \"name\": \"repos\",\n  \"rows\": 28393,\n  \"fields\": [\n    {\n      \"column\": \"login\",\n      \"properties\": {\n        \"dtype\": \"category\",\n        \"num_unique_values\": 337,\n        \"samples\": [\n          \"robertohuertasm\",\n          \"franiglesias\",\n          \"jorditorresBCN\"\n        ],\n        \"semantic_type\": \"\",\n        \"description\": \"\"\n      }\n    },\n    {\n      \"column\": \"full_name\",\n      \"properties\": {\n        \"dtype\": \"string\",\n        \"num_unique_values\": 28393,\n        \"samples\": [\n          \"dianavile/CSS-Grid-mockup\",\n          \"alfredorueda/java-rest-api-examples\",\n          \"jerosoler/PaperBoy\"\n        ],\n        \"semantic_type\": \"\",\n        \"description\": \"\"\n      }\n    },\n    {\n      \"column\": \"created_at\",\n      \"properties\": {\n        \"dtype\": \"date\",\n        \"min\": \"2008-03-28 15:08:20+00:00\",\n        \"max\": \"2024-10-29 19:45:31+00:00\",\n        \"num_unique_values\": 28389,\n        \"samples\": [\n          \"2016-10-01 09:55:23+00:00\",\n          \"2024-10-08 07:26:46+00:00\",\n          \"2024-03-10 09:54:21+00:00\"\n        ],\n        \"semantic_type\": \"\",\n        \"description\": \"\"\n      }\n    },\n    {\n      \"column\": \"stargazers_count\",\n      \"properties\": {\n        \"dtype\": \"number\",\n        \"std\": 454,\n        \"min\": 0,\n        \"max\": 40147,\n        \"num_unique_values\": 478,\n        \"samples\": [\n          129,\n          1,\n          171\n        ],\n        \"semantic_type\": \"\",\n        \"description\": \"\"\n      }\n    },\n    {\n      \"column\": \"watchers_count\",\n      \"properties\": {\n        \"dtype\": \"number\",\n        \"std\": 454,\n        \"min\": 0,\n        \"max\": 40147,\n        \"num_unique_values\": 478,\n        \"samples\": [\n          129,\n          1,\n          171\n        ],\n        \"semantic_type\": \"\",\n        \"description\": \"\"\n      }\n    },\n    {\n      \"column\": \"language\",\n      \"properties\": {\n        \"dtype\": \"category\",\n        \"num_unique_values\": 170,\n        \"samples\": [\n          \"Common Lisp\",\n          \"Scala\",\n          \"XML\"\n        ],\n        \"semantic_type\": \"\",\n        \"description\": \"\"\n      }\n    },\n    {\n      \"column\": \"has_projects\",\n      \"properties\": {\n        \"dtype\": \"category\",\n        \"num_unique_values\": 2,\n        \"samples\": [\n          \"false\",\n          \"true\"\n        ],\n        \"semantic_type\": \"\",\n        \"description\": \"\"\n      }\n    },\n    {\n      \"column\": \"has_wiki\",\n      \"properties\": {\n        \"dtype\": \"category\",\n        \"num_unique_values\": 2,\n        \"samples\": [\n          \"false\",\n          \"true\"\n        ],\n        \"semantic_type\": \"\",\n        \"description\": \"\"\n      }\n    },\n    {\n      \"column\": \"license_name\",\n      \"properties\": {\n        \"dtype\": \"category\",\n        \"num_unique_values\": 29,\n        \"samples\": [\n          \"osl-3.0\",\n          \"lgpl-2.1\"\n        ],\n        \"semantic_type\": \"\",\n        \"description\": \"\"\n      }\n    }\n  ]\n}"
            }
          },
          "metadata": {},
          "execution_count": 5
        }
      ]
    },
    {
      "cell_type": "code",
      "source": [
        "repos.info()"
      ],
      "metadata": {
        "colab": {
          "base_uri": "https://localhost:8080/"
        },
        "id": "yzN23duV_WgK",
        "outputId": "856c87a2-ebea-495d-dd1e-0b01cc2524d0"
      },
      "execution_count": 6,
      "outputs": [
        {
          "output_type": "stream",
          "name": "stdout",
          "text": [
            "<class 'pandas.core.frame.DataFrame'>\n",
            "RangeIndex: 28393 entries, 0 to 28392\n",
            "Data columns (total 9 columns):\n",
            " #   Column            Non-Null Count  Dtype              \n",
            "---  ------            --------------  -----              \n",
            " 0   login             28393 non-null  object             \n",
            " 1   full_name         28393 non-null  object             \n",
            " 2   created_at        28393 non-null  datetime64[ns, UTC]\n",
            " 3   stargazers_count  28393 non-null  int64              \n",
            " 4   watchers_count    28393 non-null  int64              \n",
            " 5   language          21026 non-null  object             \n",
            " 6   has_projects      28393 non-null  object             \n",
            " 7   has_wiki          28393 non-null  object             \n",
            " 8   license_name      14716 non-null  object             \n",
            "dtypes: datetime64[ns, UTC](1), int64(2), object(6)\n",
            "memory usage: 1.9+ MB\n"
          ]
        }
      ]
    },
    {
      "cell_type": "markdown",
      "source": [
        "#### 1. Who are the top 5 users in Barcelona with the highest number of followers? List their login in order, comma-separated."
      ],
      "metadata": {
        "id": "Y8hcfsgGTOlq"
      }
    },
    {
      "cell_type": "code",
      "source": [
        "','.join(users.sort_values(by='followers', ascending=False).loc[0:4, 'login'].to_list())"
      ],
      "metadata": {
        "colab": {
          "base_uri": "https://localhost:8080/",
          "height": 36
        },
        "id": "M0VWdkSXTUa7",
        "outputId": "80ca84ff-87b2-4262-df95-a6d0e34b30c1"
      },
      "execution_count": 7,
      "outputs": [
        {
          "output_type": "execute_result",
          "data": {
            "text/plain": [
              "'midudev,ai,raysan5,vfarcic,spite'"
            ],
            "application/vnd.google.colaboratory.intrinsic+json": {
              "type": "string"
            }
          },
          "metadata": {},
          "execution_count": 7
        }
      ]
    },
    {
      "cell_type": "markdown",
      "source": [
        "#### 2. Who are the 5 earliest registered GitHub users in Barcelona? List their login in ascending order of created_at, comma-separated."
      ],
      "metadata": {
        "id": "cy4uuQGLfE_4"
      }
    },
    {
      "cell_type": "code",
      "source": [
        "','.join(users.sort_values(by='created_at').iloc[:5, 0].to_list())"
      ],
      "metadata": {
        "colab": {
          "base_uri": "https://localhost:8080/",
          "height": 36
        },
        "id": "nMRo6nhifHll",
        "outputId": "81d8190b-acf2-4a94-c2cf-4b392b89a2fd"
      },
      "execution_count": 8,
      "outputs": [
        {
          "output_type": "execute_result",
          "data": {
            "text/plain": [
              "'oleganza,gravityblast,fesplugas,fxn,pauek'"
            ],
            "application/vnd.google.colaboratory.intrinsic+json": {
              "type": "string"
            }
          },
          "metadata": {},
          "execution_count": 8
        }
      ]
    },
    {
      "cell_type": "markdown",
      "source": [
        "#### 3. What are the 3 most popular license among these users? Ignore missing licenses. List the license_name in order, comma-separated."
      ],
      "metadata": {
        "id": "gepGkKWooze5"
      }
    },
    {
      "cell_type": "code",
      "source": [
        "','.join(repos['license_name'].value_counts(dropna=True).index[:3].to_list())"
      ],
      "metadata": {
        "colab": {
          "base_uri": "https://localhost:8080/",
          "height": 36
        },
        "id": "Eol9lVL9qYRq",
        "outputId": "287f9f3d-91e7-4f29-fa90-e1b725cd6067"
      },
      "execution_count": 9,
      "outputs": [
        {
          "output_type": "execute_result",
          "data": {
            "text/plain": [
              "'mit,apache-2.0,other'"
            ],
            "application/vnd.google.colaboratory.intrinsic+json": {
              "type": "string"
            }
          },
          "metadata": {},
          "execution_count": 9
        }
      ]
    },
    {
      "cell_type": "markdown",
      "source": [
        "#### 4. Which company do the majority of these developers work at?"
      ],
      "metadata": {
        "id": "fLBmyB0ro27d"
      }
    },
    {
      "cell_type": "code",
      "source": [
        "users['company'].value_counts().index[0]"
      ],
      "metadata": {
        "colab": {
          "base_uri": "https://localhost:8080/",
          "height": 36
        },
        "id": "sqeCFZ4f4bWN",
        "outputId": "2515b3a1-035e-4105-afe1-c34b27e9f914"
      },
      "execution_count": 10,
      "outputs": [
        {
          "output_type": "execute_result",
          "data": {
            "text/plain": [
              "'FREELANCE'"
            ],
            "application/vnd.google.colaboratory.intrinsic+json": {
              "type": "string"
            }
          },
          "metadata": {},
          "execution_count": 10
        }
      ]
    },
    {
      "cell_type": "markdown",
      "source": [
        "#### 5. Which programming language is most popular among these users?"
      ],
      "metadata": {
        "id": "Xjs8eIx-o5nz"
      }
    },
    {
      "cell_type": "code",
      "source": [
        "repos['language'].value_counts().index[0]"
      ],
      "metadata": {
        "colab": {
          "base_uri": "https://localhost:8080/",
          "height": 36
        },
        "id": "6SaETD5x-Vyv",
        "outputId": "24ea8fef-356a-4495-883c-b80d908a06cf"
      },
      "execution_count": 11,
      "outputs": [
        {
          "output_type": "execute_result",
          "data": {
            "text/plain": [
              "'JavaScript'"
            ],
            "application/vnd.google.colaboratory.intrinsic+json": {
              "type": "string"
            }
          },
          "metadata": {},
          "execution_count": 11
        }
      ]
    },
    {
      "cell_type": "markdown",
      "source": [
        "#### 6. Which programming language is the second most popular among users who joined after 2020?"
      ],
      "metadata": {
        "id": "DyKCoUxPo8sU"
      }
    },
    {
      "cell_type": "code",
      "source": [
        "users_post_2020 = users.query('created_at > \"2020-01-01 00:00:00+00:00\"')\n",
        "repos_2020 = repos[repos['login'].isin(users_post_2020['login'].tolist())]\n",
        "repos_2020['language'].value_counts().index[1]"
      ],
      "metadata": {
        "colab": {
          "base_uri": "https://localhost:8080/",
          "height": 36
        },
        "id": "ijVadbAY-m4q",
        "outputId": "92c6ac10-b85b-4e4e-e386-4a4a612ae88f"
      },
      "execution_count": 12,
      "outputs": [
        {
          "output_type": "execute_result",
          "data": {
            "text/plain": [
              "'Python'"
            ],
            "application/vnd.google.colaboratory.intrinsic+json": {
              "type": "string"
            }
          },
          "metadata": {},
          "execution_count": 12
        }
      ]
    },
    {
      "cell_type": "markdown",
      "source": [
        "#### 7. Which language has the highest average number of stars per repository?"
      ],
      "metadata": {
        "id": "qh9j3iAlo_mG"
      }
    },
    {
      "cell_type": "code",
      "source": [
        "repos.groupby('language')['stargazers_count'].mean().idxmax()"
      ],
      "metadata": {
        "colab": {
          "base_uri": "https://localhost:8080/",
          "height": 36
        },
        "id": "zqynIEW3TrC_",
        "outputId": "f1afee70-7d82-4a5b-f0c5-578cbaca7750"
      },
      "execution_count": 13,
      "outputs": [
        {
          "output_type": "execute_result",
          "data": {
            "text/plain": [
              "'Vim Script'"
            ],
            "application/vnd.google.colaboratory.intrinsic+json": {
              "type": "string"
            }
          },
          "metadata": {},
          "execution_count": 13
        }
      ]
    },
    {
      "cell_type": "markdown",
      "source": [
        "#### 8. Let's define leader_strength as followers / (1 + following). Who are the top 5 in terms of leader_strength? List their login in order, comma-separated."
      ],
      "metadata": {
        "id": "0bP3rkIApB7i"
      }
    },
    {
      "cell_type": "code",
      "source": [
        "users['leader_strength'] = users['followers'] / (1 + users['following'])\n",
        "','.join(users.sort_values(by='leader_strength', ascending=False).iloc[:5, 0].to_list())"
      ],
      "metadata": {
        "colab": {
          "base_uri": "https://localhost:8080/",
          "height": 36
        },
        "id": "n7u3Iv5SXUto",
        "outputId": "55180476-9940-42da-fcfd-4ced394292a3"
      },
      "execution_count": 14,
      "outputs": [
        {
          "output_type": "execute_result",
          "data": {
            "text/plain": [
              "'midudev,vfarcic,spite,amix,cfenollosa'"
            ],
            "application/vnd.google.colaboratory.intrinsic+json": {
              "type": "string"
            }
          },
          "metadata": {},
          "execution_count": 14
        }
      ]
    },
    {
      "cell_type": "markdown",
      "source": [
        "#### 9. What is the correlation between the number of followers and the number of public repositories among users in Barcelona?"
      ],
      "metadata": {
        "id": "LY4B-6x1pEd1"
      }
    },
    {
      "cell_type": "code",
      "source": [
        "f\"{users['followers'].corr(users['public_repos']):.3f}\""
      ],
      "metadata": {
        "colab": {
          "base_uri": "https://localhost:8080/",
          "height": 36
        },
        "id": "6_a9vY9yYwm_",
        "outputId": "92006509-3d47-4e24-f916-aca0c9b080b2"
      },
      "execution_count": 15,
      "outputs": [
        {
          "output_type": "execute_result",
          "data": {
            "text/plain": [
              "'0.071'"
            ],
            "application/vnd.google.colaboratory.intrinsic+json": {
              "type": "string"
            }
          },
          "metadata": {},
          "execution_count": 15
        }
      ]
    },
    {
      "cell_type": "markdown",
      "source": [
        "#### 10. Does creating more repos help users get more followers? Using regression, estimate how many additional followers a user gets per additional public repository."
      ],
      "metadata": {
        "id": "MhF4GAyGpHyT"
      }
    },
    {
      "cell_type": "code",
      "source": [
        "from scipy.stats import linregress\n",
        "f\"{linregress(users['public_repos'], users['followers']).slope:.3f}\""
      ],
      "metadata": {
        "colab": {
          "base_uri": "https://localhost:8080/",
          "height": 36
        },
        "id": "pNcEJRpttlfp",
        "outputId": "37b3b338-34be-4b02-a199-35f76f0c5690"
      },
      "execution_count": 16,
      "outputs": [
        {
          "output_type": "execute_result",
          "data": {
            "text/plain": [
              "'1.031'"
            ],
            "application/vnd.google.colaboratory.intrinsic+json": {
              "type": "string"
            }
          },
          "metadata": {},
          "execution_count": 16
        }
      ]
    },
    {
      "cell_type": "markdown",
      "source": [
        "**Using Statsmodels API**"
      ],
      "metadata": {
        "id": "ICziFyDZgyTH"
      }
    },
    {
      "cell_type": "code",
      "source": [
        "import statsmodels.api as sm\n",
        "\n",
        "# Prepare the data\n",
        "X = users['public_repos']  # Independent variable: number of public repositories\n",
        "y = users['followers']     # Dependent variable: number of followers\n",
        "\n",
        "# Add a constant to the independent variable (for the intercept)\n",
        "X = sm.add_constant(X)\n",
        "\n",
        "# Perform the regression\n",
        "model = sm.OLS(y, X).fit()\n",
        "\n",
        "# Print the summary of the regression\n",
        "print(model.summary())\n",
        "\n",
        "# Get the coefficient for 'public_repos'\n",
        "repo_coefficient = model.params['public_repos']\n",
        "print(f\"Estimated additional followers per additional public repository: {repo_coefficient:.3f}\")"
      ],
      "metadata": {
        "colab": {
          "base_uri": "https://localhost:8080/"
        },
        "id": "vyuSRyK5cnYn",
        "outputId": "35271922-c464-4669-e827-05ad6a801dae"
      },
      "execution_count": 17,
      "outputs": [
        {
          "output_type": "stream",
          "name": "stdout",
          "text": [
            "                            OLS Regression Results                            \n",
            "==============================================================================\n",
            "Dep. Variable:              followers   R-squared:                       0.005\n",
            "Model:                            OLS   Adj. R-squared:                  0.002\n",
            "Method:                 Least Squares   F-statistic:                     1.709\n",
            "Date:                Wed, 30 Oct 2024   Prob (F-statistic):              0.192\n",
            "Time:                        14:08:13   Log-Likelihood:                -2972.9\n",
            "No. Observations:                 337   AIC:                             5950.\n",
            "Df Residuals:                     335   BIC:                             5957.\n",
            "Df Model:                           1                                         \n",
            "Covariance Type:            nonrobust                                         \n",
            "================================================================================\n",
            "                   coef    std err          t      P>|t|      [0.025      0.975]\n",
            "--------------------------------------------------------------------------------\n",
            "const          340.2651    111.567      3.050      0.002     120.806     559.724\n",
            "public_repos     1.0308      0.789      1.307      0.192      -0.520       2.582\n",
            "==============================================================================\n",
            "Omnibus:                      716.713   Durbin-Watson:                   0.444\n",
            "Prob(Omnibus):                  0.000   Jarque-Bera (JB):           836065.999\n",
            "Skew:                          14.846   Prob(JB):                         0.00\n",
            "Kurtosis:                     245.199   Cond. No.                         176.\n",
            "==============================================================================\n",
            "\n",
            "Notes:\n",
            "[1] Standard Errors assume that the covariance matrix of the errors is correctly specified.\n",
            "Estimated additional followers per additional public repository: 1.031\n"
          ]
        }
      ]
    },
    {
      "cell_type": "markdown",
      "source": [
        "#### 11. Do people typically enable projects and wikis together? What is the correlation between a repo having projects enabled and having wiki enabled?"
      ],
      "metadata": {
        "id": "GHFsX8hnTZM_"
      }
    },
    {
      "cell_type": "code",
      "source": [
        "has_projects = repos['has_projects'].astype(bool)\n",
        "has_wiki = repos['has_wiki'].astype(bool)\n",
        "\n",
        "f\"{has_projects.corr(has_wiki):.3f}\""
      ],
      "metadata": {
        "colab": {
          "base_uri": "https://localhost:8080/",
          "height": 70
        },
        "collapsed": true,
        "id": "M2H20Goehy7T",
        "outputId": "dc58cb88-cb47-4436-a67a-9195b51ee0ae"
      },
      "execution_count": 18,
      "outputs": [
        {
          "output_type": "stream",
          "name": "stderr",
          "text": [
            "/usr/local/lib/python3.10/dist-packages/numpy/lib/function_base.py:2897: RuntimeWarning: invalid value encountered in divide\n",
            "  c /= stddev[:, None]\n"
          ]
        },
        {
          "output_type": "execute_result",
          "data": {
            "text/plain": [
              "'nan'"
            ],
            "application/vnd.google.colaboratory.intrinsic+json": {
              "type": "string"
            }
          },
          "metadata": {},
          "execution_count": 18
        }
      ]
    },
    {
      "cell_type": "markdown",
      "source": [
        "#### 12. Do hireable users follow more people than those who are not hireable?"
      ],
      "metadata": {
        "id": "O_GM0DCwTbvd"
      }
    },
    {
      "cell_type": "code",
      "source": [
        "hireable_following = users[users['hireable'] == True]['following'].mean()\n",
        "non_hireable_following = users[users['hireable'] != True]['following'].mean()\n",
        "f\"{hireable_following - non_hireable_following:.3f}\""
      ],
      "metadata": {
        "colab": {
          "base_uri": "https://localhost:8080/",
          "height": 36
        },
        "id": "rx2Rgz47u9y2",
        "outputId": "f519f284-96fd-4429-da5a-be488e78790c"
      },
      "execution_count": 19,
      "outputs": [
        {
          "output_type": "execute_result",
          "data": {
            "text/plain": [
              "'nan'"
            ],
            "application/vnd.google.colaboratory.intrinsic+json": {
              "type": "string"
            }
          },
          "metadata": {},
          "execution_count": 19
        }
      ]
    },
    {
      "cell_type": "markdown",
      "source": [
        "#### 13. Some developers write long bios. Does that help them get more followers? What's the correlation of the length of their bio (in Unicode words, split by whitespace) with followers? (Ignore people without bios)"
      ],
      "metadata": {
        "id": "v2B4_NOPTesW"
      }
    },
    {
      "cell_type": "code",
      "source": [
        "users_with_bio = users.loc[users['bio'].notna(), :].copy().reset_index(drop=True, inplace=False)\n",
        "users_with_bio['bio_length'] = users_with_bio['bio'].str.strip().str.split().str.len()\n",
        "f\"{linregress(users_with_bio['bio_length'], users_with_bio['followers']).slope:.3f}\""
      ],
      "metadata": {
        "colab": {
          "base_uri": "https://localhost:8080/",
          "height": 36
        },
        "id": "P5BGxg2oILl9",
        "outputId": "a169e405-66fd-4736-f86b-6fea99e36dc0"
      },
      "execution_count": 20,
      "outputs": [
        {
          "output_type": "execute_result",
          "data": {
            "text/plain": [
              "'13.719'"
            ],
            "application/vnd.google.colaboratory.intrinsic+json": {
              "type": "string"
            }
          },
          "metadata": {},
          "execution_count": 20
        }
      ]
    },
    {
      "cell_type": "markdown",
      "source": [
        "#### 14. Who created the most repositories on weekends (UTC)? List the top 5 users' login in order, comma-separated"
      ],
      "metadata": {
        "id": "Tdy59v-LTiHm"
      }
    },
    {
      "cell_type": "code",
      "source": [
        "','.join(repos[repos['created_at'].dt.weekday >= 5].groupby('login').size().sort_values(ascending=False)[:5].index.to_list())"
      ],
      "metadata": {
        "colab": {
          "base_uri": "https://localhost:8080/",
          "height": 36
        },
        "id": "Bk5Lw9GCJa5Q",
        "outputId": "2eb0d795-5615-4f50-8db4-c5aa4eb38910"
      },
      "execution_count": 21,
      "outputs": [
        {
          "output_type": "execute_result",
          "data": {
            "text/plain": [
              "'nilportugues,kinow,ajsb85,vfarcic,wlsf82'"
            ],
            "application/vnd.google.colaboratory.intrinsic+json": {
              "type": "string"
            }
          },
          "metadata": {},
          "execution_count": 21
        }
      ]
    },
    {
      "cell_type": "markdown",
      "source": [
        "#### 15. Do people who are hireable share their email addresses more often?"
      ],
      "metadata": {
        "id": "C-TiZv9iTk0F"
      }
    },
    {
      "cell_type": "code",
      "source": [
        "hireable_true = users[users['hireable'] == True]\n",
        "fraction_hireable_true = hireable_true['email'].notna().mean()\n",
        "\n",
        "hireable_other = users[users['hireable'] != True]\n",
        "fraction_hireable_other = hireable_other['email'].notna().mean()\n",
        "\n",
        "f\"{(fraction_hireable_true - fraction_hireable_other):.3f}\""
      ],
      "metadata": {
        "colab": {
          "base_uri": "https://localhost:8080/",
          "height": 36
        },
        "id": "_ZF17iCLtxPl",
        "outputId": "b4381fc3-0f79-4910-f155-6b7a81ab838f"
      },
      "execution_count": 22,
      "outputs": [
        {
          "output_type": "execute_result",
          "data": {
            "text/plain": [
              "'nan'"
            ],
            "application/vnd.google.colaboratory.intrinsic+json": {
              "type": "string"
            }
          },
          "metadata": {},
          "execution_count": 22
        }
      ]
    },
    {
      "cell_type": "markdown",
      "source": [
        "#### 16. Let's assume that the last word in a user's name is their surname (ignore missing names, trim and split by whitespace.) What's the most common surname? (If there's a tie, list them all, comma-separated, alphabetically)"
      ],
      "metadata": {
        "id": "E7f80mj_TnIh"
      }
    },
    {
      "cell_type": "code",
      "source": [
        "users['name'].str.strip().str.split().str[-1].value_counts().head()"
      ],
      "metadata": {
        "colab": {
          "base_uri": "https://localhost:8080/",
          "height": 272
        },
        "id": "tDzqNJs-KJYo",
        "outputId": "c0b0f3b6-1b1a-43c1-9192-7b8553de4e78"
      },
      "execution_count": 23,
      "outputs": [
        {
          "output_type": "execute_result",
          "data": {
            "text/plain": [
              "name\n",
              "Martínez    3\n",
              "Ortiz       3\n",
              "Pérez       2\n",
              "Academy     2\n",
              "Sanchez     2\n",
              "Name: count, dtype: int64"
            ],
            "text/html": [
              "<div>\n",
              "<style scoped>\n",
              "    .dataframe tbody tr th:only-of-type {\n",
              "        vertical-align: middle;\n",
              "    }\n",
              "\n",
              "    .dataframe tbody tr th {\n",
              "        vertical-align: top;\n",
              "    }\n",
              "\n",
              "    .dataframe thead th {\n",
              "        text-align: right;\n",
              "    }\n",
              "</style>\n",
              "<table border=\"1\" class=\"dataframe\">\n",
              "  <thead>\n",
              "    <tr style=\"text-align: right;\">\n",
              "      <th></th>\n",
              "      <th>count</th>\n",
              "    </tr>\n",
              "    <tr>\n",
              "      <th>name</th>\n",
              "      <th></th>\n",
              "    </tr>\n",
              "  </thead>\n",
              "  <tbody>\n",
              "    <tr>\n",
              "      <th>Martínez</th>\n",
              "      <td>3</td>\n",
              "    </tr>\n",
              "    <tr>\n",
              "      <th>Ortiz</th>\n",
              "      <td>3</td>\n",
              "    </tr>\n",
              "    <tr>\n",
              "      <th>Pérez</th>\n",
              "      <td>2</td>\n",
              "    </tr>\n",
              "    <tr>\n",
              "      <th>Academy</th>\n",
              "      <td>2</td>\n",
              "    </tr>\n",
              "    <tr>\n",
              "      <th>Sanchez</th>\n",
              "      <td>2</td>\n",
              "    </tr>\n",
              "  </tbody>\n",
              "</table>\n",
              "</div><br><label><b>dtype:</b> int64</label>"
            ]
          },
          "metadata": {},
          "execution_count": 23
        }
      ]
    },
    {
      "cell_type": "code",
      "source": [
        "# Tie b/w Martínez & Ortiz\n",
        "users['name'].str.strip().str.split().str[-1].value_counts().head(2)"
      ],
      "metadata": {
        "colab": {
          "base_uri": "https://localhost:8080/",
          "height": 178
        },
        "id": "bjKbihwtaUfL",
        "outputId": "04080430-1c60-4e3f-d502-dae23550355b"
      },
      "execution_count": 24,
      "outputs": [
        {
          "output_type": "execute_result",
          "data": {
            "text/plain": [
              "name\n",
              "Martínez    3\n",
              "Ortiz       3\n",
              "Name: count, dtype: int64"
            ],
            "text/html": [
              "<div>\n",
              "<style scoped>\n",
              "    .dataframe tbody tr th:only-of-type {\n",
              "        vertical-align: middle;\n",
              "    }\n",
              "\n",
              "    .dataframe tbody tr th {\n",
              "        vertical-align: top;\n",
              "    }\n",
              "\n",
              "    .dataframe thead th {\n",
              "        text-align: right;\n",
              "    }\n",
              "</style>\n",
              "<table border=\"1\" class=\"dataframe\">\n",
              "  <thead>\n",
              "    <tr style=\"text-align: right;\">\n",
              "      <th></th>\n",
              "      <th>count</th>\n",
              "    </tr>\n",
              "    <tr>\n",
              "      <th>name</th>\n",
              "      <th></th>\n",
              "    </tr>\n",
              "  </thead>\n",
              "  <tbody>\n",
              "    <tr>\n",
              "      <th>Martínez</th>\n",
              "      <td>3</td>\n",
              "    </tr>\n",
              "    <tr>\n",
              "      <th>Ortiz</th>\n",
              "      <td>3</td>\n",
              "    </tr>\n",
              "  </tbody>\n",
              "</table>\n",
              "</div><br><label><b>dtype:</b> int64</label>"
            ]
          },
          "metadata": {},
          "execution_count": 24
        }
      ]
    }
  ]
}